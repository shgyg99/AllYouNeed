{
  "nbformat": 4,
  "nbformat_minor": 0,
  "metadata": {
    "colab": {
      "provenance": []
    },
    "kernelspec": {
      "name": "python3",
      "display_name": "Python 3"
    },
    "language_info": {
      "name": "python"
    }
  },
  "cells": [
    {
      "cell_type": "code",
      "execution_count": null,
      "metadata": {
        "id": "-wPXeM3UUYu1"
      },
      "outputs": [],
      "source": []
    },
    {
      "cell_type": "code",
      "source": [
        "from google.colab import drive\n",
        "drive.mount('/content/drive')"
      ],
      "metadata": {
        "colab": {
          "base_uri": "https://localhost:8080/"
        },
        "id": "PTwdG7YJZhq6",
        "outputId": "f99eef66-3cd7-44d6-ad27-97a32fc8be17"
      },
      "execution_count": 1,
      "outputs": [
        {
          "output_type": "stream",
          "name": "stdout",
          "text": [
            "Mounted at /content/drive\n"
          ]
        }
      ]
    },
    {
      "cell_type": "code",
      "source": [
        "! unzip /content/drive/MyDrive/all_data/coloring_dataset-v0.3.zip"
      ],
      "metadata": {
        "colab": {
          "base_uri": "https://localhost:8080/"
        },
        "id": "ANxKORf-a8lV",
        "outputId": "02ef8a9d-ae65-4fe5-e6f9-3d67dd5d5ed4"
      },
      "execution_count": 2,
      "outputs": [
        {
          "output_type": "stream",
          "name": "stdout",
          "text": [
            "Archive:  /content/drive/MyDrive/all_data/coloring_dataset-v0.3.zip\n",
            "  inflating: v0.3/dataset-preparation.ipynb  \n",
            "   creating: v0.3/processed/\n",
            "   creating: v0.3/processed/test/\n",
            "   creating: v0.3/processed/test/inputs/\n",
            "  inflating: v0.3/processed/test/inputs/0001.bmp  \n",
            "  inflating: v0.3/processed/test/inputs/0002.bmp  \n",
            "  inflating: v0.3/processed/test/inputs/0003.bmp  \n",
            "  inflating: v0.3/processed/test/inputs/0004.bmp  \n",
            "  inflating: v0.3/processed/test/metadata.csv  \n",
            "   creating: v0.3/processed/test/targets/\n",
            "  inflating: v0.3/processed/test/targets/0001.bmp  \n",
            "  inflating: v0.3/processed/test/targets/0002.bmp  \n",
            "  inflating: v0.3/processed/test/targets/0003.bmp  \n",
            "  inflating: v0.3/processed/test/targets/0004.bmp  \n",
            "  inflating: v0.3/processed/test/targets/0005.bmp  \n",
            "  inflating: v0.3/processed/test/targets/0006.bmp  \n",
            "  inflating: v0.3/processed/test/targets/0007.bmp  \n",
            "  inflating: v0.3/processed/test/targets/0008.bmp  \n",
            "  inflating: v0.3/processed/test/targets/0009.bmp  \n",
            "  inflating: v0.3/processed/test/targets/0010.bmp  \n",
            "  inflating: v0.3/processed/test/targets/0011.bmp  \n",
            "  inflating: v0.3/processed/test/targets/0012.bmp  \n",
            "  inflating: v0.3/processed/test/targets/0013.bmp  \n",
            "  inflating: v0.3/processed/test/targets/0014.bmp  \n",
            "  inflating: v0.3/processed/test/targets/0015.bmp  \n",
            "  inflating: v0.3/processed/test/targets/0016.bmp  \n",
            "  inflating: v0.3/processed/test/targets/0017.bmp  \n",
            "  inflating: v0.3/processed/test/targets/0018.bmp  \n",
            "  inflating: v0.3/processed/test/targets/0019.bmp  \n",
            "  inflating: v0.3/processed/test/targets/0020.bmp  \n",
            "  inflating: v0.3/processed/test/targets/0021.bmp  \n",
            "  inflating: v0.3/processed/test/targets/0022.bmp  \n",
            "  inflating: v0.3/processed/test/targets/0023.bmp  \n",
            "  inflating: v0.3/processed/test/targets/0024.bmp  \n",
            "  inflating: v0.3/processed/test/targets/0025.bmp  \n",
            "  inflating: v0.3/processed/test/targets/0026.bmp  \n",
            "  inflating: v0.3/processed/test/targets/0027.bmp  \n",
            "  inflating: v0.3/processed/test/targets/0028.bmp  \n",
            "  inflating: v0.3/processed/test/targets/0029.bmp  \n",
            "  inflating: v0.3/processed/test/targets/0030.bmp  \n",
            "  inflating: v0.3/processed/test/targets/0031.bmp  \n",
            "  inflating: v0.3/processed/test/targets/0032.bmp  \n",
            "  inflating: v0.3/processed/test/targets/0033.bmp  \n",
            "  inflating: v0.3/processed/test/targets/0034.bmp  \n",
            "  inflating: v0.3/processed/test/targets/0035.bmp  \n",
            "  inflating: v0.3/processed/test/targets/0036.bmp  \n",
            "  inflating: v0.3/processed/test/targets/0037.bmp  \n",
            "  inflating: v0.3/processed/test/targets/0038.bmp  \n",
            "  inflating: v0.3/processed/test/targets/0039.bmp  \n",
            "  inflating: v0.3/processed/test/targets/0040.bmp  \n",
            "  inflating: v0.3/processed/test/targets/0041.bmp  \n",
            "  inflating: v0.3/processed/test/targets/0042.bmp  \n",
            "  inflating: v0.3/processed/test/targets/0043.bmp  \n",
            "  inflating: v0.3/processed/test/targets/0044.bmp  \n",
            "  inflating: v0.3/processed/test/targets/0045.bmp  \n",
            "  inflating: v0.3/processed/test/targets/0046.bmp  \n",
            "  inflating: v0.3/processed/test/targets/0047.bmp  \n",
            "  inflating: v0.3/processed/test/targets/0048.bmp  \n",
            "  inflating: v0.3/processed/test/targets/0049.bmp  \n",
            "  inflating: v0.3/processed/test/targets/0050.bmp  \n",
            "  inflating: v0.3/processed/test/targets/0051.bmp  \n",
            "  inflating: v0.3/processed/test/targets/0052.bmp  \n",
            "  inflating: v0.3/processed/test/targets/0053.bmp  \n",
            "  inflating: v0.3/processed/test/targets/0054.bmp  \n",
            "  inflating: v0.3/processed/test/targets/0055.bmp  \n",
            "  inflating: v0.3/processed/test/targets/0056.bmp  \n",
            "  inflating: v0.3/processed/test/targets/0057.bmp  \n",
            "  inflating: v0.3/processed/test/targets/0058.bmp  \n",
            "  inflating: v0.3/processed/test/targets/0059.bmp  \n",
            "  inflating: v0.3/processed/test/targets/0060.bmp  \n",
            "  inflating: v0.3/processed/test/targets/0061.bmp  \n",
            "  inflating: v0.3/processed/test/targets/0062.bmp  \n",
            "  inflating: v0.3/processed/test/targets/0063.bmp  \n",
            "  inflating: v0.3/processed/test/targets/0064.bmp  \n",
            "  inflating: v0.3/processed/test/targets/0065.bmp  \n",
            "  inflating: v0.3/processed/test/targets/0066.bmp  \n",
            "  inflating: v0.3/processed/test/targets/0067.bmp  \n",
            "  inflating: v0.3/processed/test/targets/0068.bmp  \n",
            "  inflating: v0.3/processed/test/targets/0069.bmp  \n",
            "  inflating: v0.3/processed/test/targets/0070.bmp  \n",
            "  inflating: v0.3/processed/test/targets/0071.bmp  \n",
            "  inflating: v0.3/processed/test/targets/0072.bmp  \n",
            "  inflating: v0.3/processed/test/targets/0073.bmp  \n",
            "  inflating: v0.3/processed/test/targets/0074.bmp  \n",
            "  inflating: v0.3/processed/test/targets/0075.bmp  \n",
            "  inflating: v0.3/processed/test/targets/0076.bmp  \n",
            "  inflating: v0.3/processed/test/targets/0077.bmp  \n",
            "  inflating: v0.3/processed/test/targets/0078.bmp  \n",
            "  inflating: v0.3/processed/test/targets/0079.bmp  \n",
            "  inflating: v0.3/processed/test/targets/0080.bmp  \n",
            "  inflating: v0.3/processed/test/targets/0081.bmp  \n",
            "  inflating: v0.3/processed/test/targets/0082.bmp  \n",
            "  inflating: v0.3/processed/test/targets/0083.bmp  \n",
            "  inflating: v0.3/processed/test/targets/0084.bmp  \n",
            "  inflating: v0.3/processed/test/targets/0085.bmp  \n",
            "  inflating: v0.3/processed/test/targets/0086.bmp  \n",
            "  inflating: v0.3/processed/test/targets/0087.bmp  \n",
            "  inflating: v0.3/processed/test/targets/0088.bmp  \n",
            "  inflating: v0.3/processed/test/targets/0089.bmp  \n",
            "  inflating: v0.3/processed/test/targets/0090.bmp  \n",
            "  inflating: v0.3/processed/test/targets/0091.bmp  \n",
            "  inflating: v0.3/processed/test/targets/0092.bmp  \n",
            "  inflating: v0.3/processed/test/targets/0093.bmp  \n",
            "  inflating: v0.3/processed/test/targets/0094.bmp  \n",
            "  inflating: v0.3/processed/test/targets/0095.bmp  \n",
            "  inflating: v0.3/processed/test/targets/0096.bmp  \n",
            "  inflating: v0.3/processed/test/targets/0097.bmp  \n",
            "  inflating: v0.3/processed/test/targets/0098.bmp  \n",
            "  inflating: v0.3/processed/test/targets/0099.bmp  \n",
            "  inflating: v0.3/processed/test/targets/0100.bmp  \n",
            "   creating: v0.3/processed/train/\n",
            "   creating: v0.3/processed/train/inputs/\n",
            "  inflating: v0.3/processed/train/inputs/0001.bmp  \n",
            "  inflating: v0.3/processed/train/inputs/0002.bmp  \n",
            "  inflating: v0.3/processed/train/inputs/0003.bmp  \n",
            "  inflating: v0.3/processed/train/inputs/0004.bmp  \n",
            "  inflating: v0.3/processed/train/inputs/0005.bmp  \n",
            "  inflating: v0.3/processed/train/inputs/0006.bmp  \n",
            "  inflating: v0.3/processed/train/inputs/0007.bmp  \n",
            "  inflating: v0.3/processed/train/inputs/0008.bmp  \n",
            "  inflating: v0.3/processed/train/inputs/0009.bmp  \n",
            "  inflating: v0.3/processed/train/inputs/0010.bmp  \n",
            "  inflating: v0.3/processed/train/metadata.csv  \n",
            "   creating: v0.3/processed/train/targets/\n",
            "  inflating: v0.3/processed/train/targets/0001.bmp  \n",
            "  inflating: v0.3/processed/train/targets/0002.bmp  \n",
            "  inflating: v0.3/processed/train/targets/0003.bmp  \n",
            "  inflating: v0.3/processed/train/targets/0004.bmp  \n",
            "  inflating: v0.3/processed/train/targets/0005.bmp  \n",
            "  inflating: v0.3/processed/train/targets/0006.bmp  \n",
            "  inflating: v0.3/processed/train/targets/0007.bmp  \n",
            "  inflating: v0.3/processed/train/targets/0008.bmp  \n",
            "  inflating: v0.3/processed/train/targets/0009.bmp  \n",
            "  inflating: v0.3/processed/train/targets/0010.bmp  \n",
            "  inflating: v0.3/processed/train/targets/0011.bmp  \n",
            "  inflating: v0.3/processed/train/targets/0012.bmp  \n",
            "  inflating: v0.3/processed/train/targets/0013.bmp  \n",
            "  inflating: v0.3/processed/train/targets/0014.bmp  \n",
            "  inflating: v0.3/processed/train/targets/0015.bmp  \n",
            "  inflating: v0.3/processed/train/targets/0016.bmp  \n",
            "  inflating: v0.3/processed/train/targets/0017.bmp  \n",
            "  inflating: v0.3/processed/train/targets/0018.bmp  \n",
            "  inflating: v0.3/processed/train/targets/0019.bmp  \n",
            "  inflating: v0.3/processed/train/targets/0020.bmp  \n",
            "  inflating: v0.3/processed/train/targets/0021.bmp  \n",
            "  inflating: v0.3/processed/train/targets/0022.bmp  \n",
            "  inflating: v0.3/processed/train/targets/0023.bmp  \n",
            "  inflating: v0.3/processed/train/targets/0024.bmp  \n",
            "  inflating: v0.3/processed/train/targets/0025.bmp  \n",
            "  inflating: v0.3/processed/train/targets/0026.bmp  \n",
            "  inflating: v0.3/processed/train/targets/0027.bmp  \n",
            "  inflating: v0.3/processed/train/targets/0028.bmp  \n",
            "  inflating: v0.3/processed/train/targets/0029.bmp  \n",
            "  inflating: v0.3/processed/train/targets/0030.bmp  \n",
            "  inflating: v0.3/processed/train/targets/0031.bmp  \n",
            "  inflating: v0.3/processed/train/targets/0032.bmp  \n",
            "  inflating: v0.3/processed/train/targets/0033.bmp  \n",
            "  inflating: v0.3/processed/train/targets/0034.bmp  \n",
            "  inflating: v0.3/processed/train/targets/0035.bmp  \n",
            "  inflating: v0.3/processed/train/targets/0036.bmp  \n",
            "  inflating: v0.3/processed/train/targets/0037.bmp  \n",
            "  inflating: v0.3/processed/train/targets/0038.bmp  \n",
            "  inflating: v0.3/processed/train/targets/0039.bmp  \n",
            "  inflating: v0.3/processed/train/targets/0040.bmp  \n",
            "  inflating: v0.3/processed/train/targets/0041.bmp  \n",
            "  inflating: v0.3/processed/train/targets/0042.bmp  \n",
            "  inflating: v0.3/processed/train/targets/0043.bmp  \n",
            "  inflating: v0.3/processed/train/targets/0044.bmp  \n",
            "  inflating: v0.3/processed/train/targets/0045.bmp  \n",
            "  inflating: v0.3/processed/train/targets/0046.bmp  \n",
            "  inflating: v0.3/processed/train/targets/0047.bmp  \n",
            "  inflating: v0.3/processed/train/targets/0048.bmp  \n",
            "  inflating: v0.3/processed/train/targets/0049.bmp  \n",
            "  inflating: v0.3/processed/train/targets/0050.bmp  \n",
            "  inflating: v0.3/processed/train/targets/0051.bmp  \n",
            "  inflating: v0.3/processed/train/targets/0052.bmp  \n",
            "  inflating: v0.3/processed/train/targets/0053.bmp  \n",
            "  inflating: v0.3/processed/train/targets/0054.bmp  \n",
            "  inflating: v0.3/processed/train/targets/0055.bmp  \n",
            "  inflating: v0.3/processed/train/targets/0056.bmp  \n",
            "  inflating: v0.3/processed/train/targets/0057.bmp  \n",
            "  inflating: v0.3/processed/train/targets/0058.bmp  \n",
            "  inflating: v0.3/processed/train/targets/0059.bmp  \n",
            "  inflating: v0.3/processed/train/targets/0060.bmp  \n",
            "  inflating: v0.3/processed/train/targets/0061.bmp  \n",
            "  inflating: v0.3/processed/train/targets/0062.bmp  \n",
            "  inflating: v0.3/processed/train/targets/0063.bmp  \n",
            "  inflating: v0.3/processed/train/targets/0064.bmp  \n",
            "  inflating: v0.3/processed/train/targets/0065.bmp  \n",
            "  inflating: v0.3/processed/train/targets/0066.bmp  \n",
            "  inflating: v0.3/processed/train/targets/0067.bmp  \n",
            "  inflating: v0.3/processed/train/targets/0068.bmp  \n",
            "  inflating: v0.3/processed/train/targets/0069.bmp  \n",
            "  inflating: v0.3/processed/train/targets/0070.bmp  \n",
            "  inflating: v0.3/processed/train/targets/0071.bmp  \n",
            "  inflating: v0.3/processed/train/targets/0072.bmp  \n",
            "  inflating: v0.3/processed/train/targets/0073.bmp  \n",
            "  inflating: v0.3/processed/train/targets/0074.bmp  \n",
            "  inflating: v0.3/processed/train/targets/0075.bmp  \n",
            "  inflating: v0.3/processed/train/targets/0076.bmp  \n",
            "  inflating: v0.3/processed/train/targets/0077.bmp  \n",
            "  inflating: v0.3/processed/train/targets/0078.bmp  \n",
            "  inflating: v0.3/processed/train/targets/0079.bmp  \n",
            "  inflating: v0.3/processed/train/targets/0080.bmp  \n",
            "  inflating: v0.3/processed/train/targets/0081.bmp  \n",
            "  inflating: v0.3/processed/train/targets/0082.bmp  \n",
            "  inflating: v0.3/processed/train/targets/0083.bmp  \n",
            "  inflating: v0.3/processed/train/targets/0084.bmp  \n",
            "  inflating: v0.3/processed/train/targets/0085.bmp  \n",
            "  inflating: v0.3/processed/train/targets/0086.bmp  \n",
            "  inflating: v0.3/processed/train/targets/0087.bmp  \n",
            "  inflating: v0.3/processed/train/targets/0088.bmp  \n",
            "  inflating: v0.3/processed/train/targets/0089.bmp  \n",
            "  inflating: v0.3/processed/train/targets/0090.bmp  \n",
            "  inflating: v0.3/processed/train/targets/0091.bmp  \n",
            "  inflating: v0.3/processed/train/targets/0092.bmp  \n",
            "  inflating: v0.3/processed/train/targets/0093.bmp  \n",
            "  inflating: v0.3/processed/train/targets/0094.bmp  \n",
            "  inflating: v0.3/processed/train/targets/0095.bmp  \n",
            "  inflating: v0.3/processed/train/targets/0096.bmp  \n",
            "  inflating: v0.3/processed/train/targets/0097.bmp  \n",
            "  inflating: v0.3/processed/train/targets/0098.bmp  \n",
            "  inflating: v0.3/processed/train/targets/0099.bmp  \n",
            "  inflating: v0.3/processed/train/targets/0100.bmp  \n",
            "  inflating: v0.3/processed/train/targets/0101.bmp  \n",
            "  inflating: v0.3/processed/train/targets/0102.bmp  \n",
            "  inflating: v0.3/processed/train/targets/0103.bmp  \n",
            "  inflating: v0.3/processed/train/targets/0104.bmp  \n",
            "  inflating: v0.3/processed/train/targets/0105.bmp  \n",
            "  inflating: v0.3/processed/train/targets/0106.bmp  \n",
            "  inflating: v0.3/processed/train/targets/0107.bmp  \n",
            "  inflating: v0.3/processed/train/targets/0108.bmp  \n",
            "  inflating: v0.3/processed/train/targets/0109.bmp  \n",
            "  inflating: v0.3/processed/train/targets/0110.bmp  \n",
            "  inflating: v0.3/processed/train/targets/0111.bmp  \n",
            "  inflating: v0.3/processed/train/targets/0112.bmp  \n",
            "  inflating: v0.3/processed/train/targets/0113.bmp  \n",
            "  inflating: v0.3/processed/train/targets/0114.bmp  \n",
            "  inflating: v0.3/processed/train/targets/0115.bmp  \n",
            "  inflating: v0.3/processed/train/targets/0116.bmp  \n",
            "  inflating: v0.3/processed/train/targets/0117.bmp  \n",
            "  inflating: v0.3/processed/train/targets/0118.bmp  \n",
            "  inflating: v0.3/processed/train/targets/0119.bmp  \n",
            "  inflating: v0.3/processed/train/targets/0120.bmp  \n",
            "  inflating: v0.3/processed/train/targets/0121.bmp  \n",
            "  inflating: v0.3/processed/train/targets/0122.bmp  \n",
            "  inflating: v0.3/processed/train/targets/0123.bmp  \n",
            "  inflating: v0.3/processed/train/targets/0124.bmp  \n",
            "  inflating: v0.3/processed/train/targets/0125.bmp  \n",
            "  inflating: v0.3/processed/train/targets/0126.bmp  \n",
            "  inflating: v0.3/processed/train/targets/0127.bmp  \n",
            "  inflating: v0.3/processed/train/targets/0128.bmp  \n",
            "  inflating: v0.3/processed/train/targets/0129.bmp  \n",
            "  inflating: v0.3/processed/train/targets/0130.bmp  \n",
            "  inflating: v0.3/processed/train/targets/0131.bmp  \n",
            "  inflating: v0.3/processed/train/targets/0132.bmp  \n",
            "  inflating: v0.3/processed/train/targets/0133.bmp  \n",
            "  inflating: v0.3/processed/train/targets/0134.bmp  \n",
            "  inflating: v0.3/processed/train/targets/0135.bmp  \n",
            "  inflating: v0.3/processed/train/targets/0136.bmp  \n",
            "  inflating: v0.3/processed/train/targets/0137.bmp  \n",
            "  inflating: v0.3/processed/train/targets/0138.bmp  \n",
            "  inflating: v0.3/processed/train/targets/0139.bmp  \n",
            "  inflating: v0.3/processed/train/targets/0140.bmp  \n",
            "  inflating: v0.3/processed/train/targets/0141.bmp  \n",
            "  inflating: v0.3/processed/train/targets/0142.bmp  \n",
            "  inflating: v0.3/processed/train/targets/0143.bmp  \n",
            "  inflating: v0.3/processed/train/targets/0144.bmp  \n",
            "  inflating: v0.3/processed/train/targets/0145.bmp  \n",
            "  inflating: v0.3/processed/train/targets/0146.bmp  \n",
            "  inflating: v0.3/processed/train/targets/0147.bmp  \n",
            "  inflating: v0.3/processed/train/targets/0148.bmp  \n",
            "  inflating: v0.3/processed/train/targets/0149.bmp  \n",
            "  inflating: v0.3/processed/train/targets/0150.bmp  \n",
            "  inflating: v0.3/processed/train/targets/0151.bmp  \n",
            "  inflating: v0.3/processed/train/targets/0152.bmp  \n",
            "  inflating: v0.3/processed/train/targets/0153.bmp  \n",
            "  inflating: v0.3/processed/train/targets/0154.bmp  \n",
            "  inflating: v0.3/processed/train/targets/0155.bmp  \n",
            "  inflating: v0.3/processed/train/targets/0156.bmp  \n",
            "  inflating: v0.3/processed/train/targets/0157.bmp  \n",
            "  inflating: v0.3/processed/train/targets/0158.bmp  \n",
            "  inflating: v0.3/processed/train/targets/0159.bmp  \n",
            "  inflating: v0.3/processed/train/targets/0160.bmp  \n",
            "  inflating: v0.3/processed/train/targets/0161.bmp  \n",
            "  inflating: v0.3/processed/train/targets/0162.bmp  \n",
            "  inflating: v0.3/processed/train/targets/0163.bmp  \n",
            "  inflating: v0.3/processed/train/targets/0164.bmp  \n",
            "  inflating: v0.3/processed/train/targets/0165.bmp  \n",
            "  inflating: v0.3/processed/train/targets/0166.bmp  \n",
            "  inflating: v0.3/processed/train/targets/0167.bmp  \n",
            "  inflating: v0.3/processed/train/targets/0168.bmp  \n",
            "  inflating: v0.3/processed/train/targets/0169.bmp  \n",
            "  inflating: v0.3/processed/train/targets/0170.bmp  \n",
            "  inflating: v0.3/processed/train/targets/0171.bmp  \n",
            "  inflating: v0.3/processed/train/targets/0172.bmp  \n",
            "  inflating: v0.3/processed/train/targets/0173.bmp  \n",
            "  inflating: v0.3/processed/train/targets/0174.bmp  \n",
            "  inflating: v0.3/processed/train/targets/0175.bmp  \n",
            "  inflating: v0.3/processed/train/targets/0176.bmp  \n",
            "  inflating: v0.3/processed/train/targets/0177.bmp  \n",
            "  inflating: v0.3/processed/train/targets/0178.bmp  \n",
            "  inflating: v0.3/processed/train/targets/0179.bmp  \n",
            "  inflating: v0.3/processed/train/targets/0180.bmp  \n",
            "  inflating: v0.3/processed/train/targets/0181.bmp  \n",
            "  inflating: v0.3/processed/train/targets/0182.bmp  \n",
            "  inflating: v0.3/processed/train/targets/0183.bmp  \n",
            "  inflating: v0.3/processed/train/targets/0184.bmp  \n",
            "  inflating: v0.3/processed/train/targets/0185.bmp  \n",
            "  inflating: v0.3/processed/train/targets/0186.bmp  \n",
            "  inflating: v0.3/processed/train/targets/0187.bmp  \n",
            "  inflating: v0.3/processed/train/targets/0188.bmp  \n",
            "  inflating: v0.3/processed/train/targets/0189.bmp  \n",
            "  inflating: v0.3/processed/train/targets/0190.bmp  \n",
            "  inflating: v0.3/processed/train/targets/0191.bmp  \n",
            "  inflating: v0.3/processed/train/targets/0192.bmp  \n",
            "  inflating: v0.3/processed/train/targets/0193.bmp  \n",
            "  inflating: v0.3/processed/train/targets/0194.bmp  \n",
            "  inflating: v0.3/processed/train/targets/0195.bmp  \n",
            "  inflating: v0.3/processed/train/targets/0196.bmp  \n",
            "  inflating: v0.3/processed/train/targets/0197.bmp  \n",
            "  inflating: v0.3/processed/train/targets/0198.bmp  \n",
            "  inflating: v0.3/processed/train/targets/0199.bmp  \n",
            "  inflating: v0.3/processed/train/targets/0200.bmp  \n",
            "  inflating: v0.3/processed/train/targets/0201.bmp  \n",
            "  inflating: v0.3/processed/train/targets/0202.bmp  \n",
            "  inflating: v0.3/processed/train/targets/0203.bmp  \n",
            "  inflating: v0.3/processed/train/targets/0204.bmp  \n",
            "  inflating: v0.3/processed/train/targets/0205.bmp  \n",
            "  inflating: v0.3/processed/train/targets/0206.bmp  \n",
            "  inflating: v0.3/processed/train/targets/0207.bmp  \n",
            "  inflating: v0.3/processed/train/targets/0208.bmp  \n",
            "  inflating: v0.3/processed/train/targets/0209.bmp  \n",
            "  inflating: v0.3/processed/train/targets/0210.bmp  \n",
            "  inflating: v0.3/processed/train/targets/0211.bmp  \n",
            "  inflating: v0.3/processed/train/targets/0212.bmp  \n",
            "  inflating: v0.3/processed/train/targets/0213.bmp  \n",
            "  inflating: v0.3/processed/train/targets/0214.bmp  \n",
            "  inflating: v0.3/processed/train/targets/0215.bmp  \n",
            "  inflating: v0.3/processed/train/targets/0216.bmp  \n",
            "  inflating: v0.3/processed/train/targets/0217.bmp  \n",
            "  inflating: v0.3/processed/train/targets/0218.bmp  \n",
            "  inflating: v0.3/processed/train/targets/0219.bmp  \n",
            "  inflating: v0.3/processed/train/targets/0220.bmp  \n",
            "  inflating: v0.3/processed/train/targets/0221.bmp  \n",
            "  inflating: v0.3/processed/train/targets/0222.bmp  \n",
            "  inflating: v0.3/processed/train/targets/0223.bmp  \n",
            "  inflating: v0.3/processed/train/targets/0224.bmp  \n",
            "  inflating: v0.3/processed/train/targets/0225.bmp  \n",
            "  inflating: v0.3/processed/train/targets/0226.bmp  \n",
            "  inflating: v0.3/processed/train/targets/0227.bmp  \n",
            "  inflating: v0.3/processed/train/targets/0228.bmp  \n",
            "  inflating: v0.3/processed/train/targets/0229.bmp  \n",
            "  inflating: v0.3/processed/train/targets/0230.bmp  \n",
            "  inflating: v0.3/processed/train/targets/0231.bmp  \n",
            "  inflating: v0.3/processed/train/targets/0232.bmp  \n",
            "  inflating: v0.3/processed/train/targets/0233.bmp  \n",
            "  inflating: v0.3/processed/train/targets/0234.bmp  \n",
            "  inflating: v0.3/processed/train/targets/0235.bmp  \n",
            "  inflating: v0.3/processed/train/targets/0236.bmp  \n",
            "  inflating: v0.3/processed/train/targets/0237.bmp  \n",
            "  inflating: v0.3/processed/train/targets/0238.bmp  \n",
            "  inflating: v0.3/processed/train/targets/0239.bmp  \n",
            "  inflating: v0.3/processed/train/targets/0240.bmp  \n",
            "  inflating: v0.3/processed/train/targets/0241.bmp  \n",
            "  inflating: v0.3/processed/train/targets/0242.bmp  \n",
            "  inflating: v0.3/processed/train/targets/0243.bmp  \n",
            "  inflating: v0.3/processed/train/targets/0244.bmp  \n",
            "  inflating: v0.3/processed/train/targets/0245.bmp  \n",
            "  inflating: v0.3/processed/train/targets/0246.bmp  \n",
            "  inflating: v0.3/processed/train/targets/0247.bmp  \n",
            "  inflating: v0.3/processed/train/targets/0248.bmp  \n",
            "  inflating: v0.3/processed/train/targets/0249.bmp  \n",
            "  inflating: v0.3/processed/train/targets/0250.bmp  \n",
            "   creating: v0.3/raw/\n",
            "  inflating: v0.3/raw/pallete.txt    \n",
            "   creating: v0.3/raw/test/\n",
            "   creating: v0.3/raw/test/inputs/\n",
            "  inflating: v0.3/raw/test/inputs/0.png  \n",
            "  inflating: v0.3/raw/test/inputs/1.png  \n",
            "  inflating: v0.3/raw/test/inputs/2.png  \n",
            "  inflating: v0.3/raw/test/inputs/3.png  \n",
            "   creating: v0.3/raw/test/targets/\n",
            "   creating: v0.3/raw/test/targets/0/\n",
            "  inflating: v0.3/raw/test/targets/0/girl (1).png  \n",
            "  inflating: v0.3/raw/test/targets/0/girl (10).png  \n",
            "  inflating: v0.3/raw/test/targets/0/girl (11).png  \n",
            "  inflating: v0.3/raw/test/targets/0/girl (12).png  \n",
            "  inflating: v0.3/raw/test/targets/0/girl (13).png  \n",
            "  inflating: v0.3/raw/test/targets/0/girl (14).png  \n",
            "  inflating: v0.3/raw/test/targets/0/girl (15).png  \n",
            "  inflating: v0.3/raw/test/targets/0/girl (16).png  \n",
            "  inflating: v0.3/raw/test/targets/0/girl (17).png  \n",
            "  inflating: v0.3/raw/test/targets/0/girl (18).png  \n",
            "  inflating: v0.3/raw/test/targets/0/girl (19).png  \n",
            "  inflating: v0.3/raw/test/targets/0/girl (2).png  \n",
            "  inflating: v0.3/raw/test/targets/0/girl (20).png  \n",
            "  inflating: v0.3/raw/test/targets/0/girl (21).png  \n",
            "  inflating: v0.3/raw/test/targets/0/girl (22).png  \n",
            "  inflating: v0.3/raw/test/targets/0/girl (23).png  \n",
            "  inflating: v0.3/raw/test/targets/0/girl (24).png  \n",
            "  inflating: v0.3/raw/test/targets/0/girl (3).png  \n",
            "  inflating: v0.3/raw/test/targets/0/girl (4).png  \n",
            "  inflating: v0.3/raw/test/targets/0/girl (5).png  \n",
            "  inflating: v0.3/raw/test/targets/0/girl (6).png  \n",
            "  inflating: v0.3/raw/test/targets/0/girl (7).png  \n",
            "  inflating: v0.3/raw/test/targets/0/girl (8).png  \n",
            "  inflating: v0.3/raw/test/targets/0/girl (9).png  \n",
            "  inflating: v0.3/raw/test/targets/0/girl.png  \n",
            "   creating: v0.3/raw/test/targets/1/\n",
            "  inflating: v0.3/raw/test/targets/1/girl (1).png  \n",
            "  inflating: v0.3/raw/test/targets/1/girl (10).png  \n",
            "  inflating: v0.3/raw/test/targets/1/girl (11).png  \n",
            "  inflating: v0.3/raw/test/targets/1/girl (12).png  \n",
            "  inflating: v0.3/raw/test/targets/1/girl (13).png  \n",
            "  inflating: v0.3/raw/test/targets/1/girl (14).png  \n",
            "  inflating: v0.3/raw/test/targets/1/girl (15).png  \n",
            "  inflating: v0.3/raw/test/targets/1/girl (16).png  \n",
            "  inflating: v0.3/raw/test/targets/1/girl (17).png  \n",
            "  inflating: v0.3/raw/test/targets/1/girl (18).png  \n",
            "  inflating: v0.3/raw/test/targets/1/girl (19).png  \n",
            "  inflating: v0.3/raw/test/targets/1/girl (2).png  \n",
            "  inflating: v0.3/raw/test/targets/1/girl (20).png  \n",
            "  inflating: v0.3/raw/test/targets/1/girl (21).png  \n",
            "  inflating: v0.3/raw/test/targets/1/girl (22).png  \n",
            "  inflating: v0.3/raw/test/targets/1/girl (23).png  \n",
            "  inflating: v0.3/raw/test/targets/1/girl (24).png  \n",
            "  inflating: v0.3/raw/test/targets/1/girl (25).png  \n",
            "  inflating: v0.3/raw/test/targets/1/girl (3).png  \n",
            "  inflating: v0.3/raw/test/targets/1/girl (4).png  \n",
            "  inflating: v0.3/raw/test/targets/1/girl (5).png  \n",
            "  inflating: v0.3/raw/test/targets/1/girl (6).png  \n",
            "  inflating: v0.3/raw/test/targets/1/girl (7).png  \n",
            "  inflating: v0.3/raw/test/targets/1/girl (8).png  \n",
            "  inflating: v0.3/raw/test/targets/1/girl (9).png  \n",
            "   creating: v0.3/raw/test/targets/2/\n",
            "  inflating: v0.3/raw/test/targets/2/boy (1).png  \n",
            "  inflating: v0.3/raw/test/targets/2/boy (10).png  \n",
            "  inflating: v0.3/raw/test/targets/2/boy (11).png  \n",
            "  inflating: v0.3/raw/test/targets/2/boy (12).png  \n",
            "  inflating: v0.3/raw/test/targets/2/boy (13).png  \n",
            "  inflating: v0.3/raw/test/targets/2/boy (14).png  \n",
            "  inflating: v0.3/raw/test/targets/2/boy (15).png  \n",
            "  inflating: v0.3/raw/test/targets/2/boy (16).png  \n",
            "  inflating: v0.3/raw/test/targets/2/boy (17).png  \n",
            "  inflating: v0.3/raw/test/targets/2/boy (18).png  \n",
            "  inflating: v0.3/raw/test/targets/2/boy (19).png  \n",
            "  inflating: v0.3/raw/test/targets/2/boy (2).png  \n",
            "  inflating: v0.3/raw/test/targets/2/boy (20).png  \n",
            "  inflating: v0.3/raw/test/targets/2/boy (21).png  \n",
            "  inflating: v0.3/raw/test/targets/2/boy (22).png  \n",
            "  inflating: v0.3/raw/test/targets/2/boy (23).png  \n",
            "  inflating: v0.3/raw/test/targets/2/boy (24).png  \n",
            "  inflating: v0.3/raw/test/targets/2/boy (25).png  \n",
            "  inflating: v0.3/raw/test/targets/2/boy (3).png  \n",
            "  inflating: v0.3/raw/test/targets/2/boy (4).png  \n",
            "  inflating: v0.3/raw/test/targets/2/boy (5).png  \n",
            "  inflating: v0.3/raw/test/targets/2/boy (6).png  \n",
            "  inflating: v0.3/raw/test/targets/2/boy (7).png  \n",
            "  inflating: v0.3/raw/test/targets/2/boy (8).png  \n",
            "  inflating: v0.3/raw/test/targets/2/boy (9).png  \n",
            "   creating: v0.3/raw/test/targets/3/\n",
            "  inflating: v0.3/raw/test/targets/3/boy (1).png  \n",
            "  inflating: v0.3/raw/test/targets/3/boy (10).png  \n",
            "  inflating: v0.3/raw/test/targets/3/boy (11).png  \n",
            "  inflating: v0.3/raw/test/targets/3/boy (12).png  \n",
            "  inflating: v0.3/raw/test/targets/3/boy (13).png  \n",
            "  inflating: v0.3/raw/test/targets/3/boy (14).png  \n",
            "  inflating: v0.3/raw/test/targets/3/boy (15).png  \n",
            "  inflating: v0.3/raw/test/targets/3/boy (16).png  \n",
            "  inflating: v0.3/raw/test/targets/3/boy (17).png  \n",
            "  inflating: v0.3/raw/test/targets/3/boy (18).png  \n",
            "  inflating: v0.3/raw/test/targets/3/boy (19).png  \n",
            "  inflating: v0.3/raw/test/targets/3/boy (2).png  \n",
            "  inflating: v0.3/raw/test/targets/3/boy (20).png  \n",
            "  inflating: v0.3/raw/test/targets/3/boy (21).png  \n",
            "  inflating: v0.3/raw/test/targets/3/boy (22).png  \n",
            "  inflating: v0.3/raw/test/targets/3/boy (23).png  \n",
            "  inflating: v0.3/raw/test/targets/3/boy (24).png  \n",
            "  inflating: v0.3/raw/test/targets/3/boy (25).png  \n",
            "  inflating: v0.3/raw/test/targets/3/boy (3).png  \n",
            "  inflating: v0.3/raw/test/targets/3/boy (4).png  \n",
            "  inflating: v0.3/raw/test/targets/3/boy (5).png  \n",
            "  inflating: v0.3/raw/test/targets/3/boy (6).png  \n",
            "  inflating: v0.3/raw/test/targets/3/boy (7).png  \n",
            "  inflating: v0.3/raw/test/targets/3/boy (8).png  \n",
            "  inflating: v0.3/raw/test/targets/3/boy (9).png  \n",
            "   creating: v0.3/raw/train/\n",
            "   creating: v0.3/raw/train/inputs/\n",
            "  inflating: v0.3/raw/train/inputs/0.png  \n",
            "  inflating: v0.3/raw/train/inputs/1.png  \n",
            "  inflating: v0.3/raw/train/inputs/2.png  \n",
            "  inflating: v0.3/raw/train/inputs/3.png  \n",
            "  inflating: v0.3/raw/train/inputs/4.png  \n",
            "  inflating: v0.3/raw/train/inputs/5.png  \n",
            "  inflating: v0.3/raw/train/inputs/6.png  \n",
            "  inflating: v0.3/raw/train/inputs/7.png  \n",
            "  inflating: v0.3/raw/train/inputs/8.png  \n",
            "  inflating: v0.3/raw/train/inputs/9.png  \n",
            "   creating: v0.3/raw/train/targets/\n",
            "   creating: v0.3/raw/train/targets/0/\n",
            "  inflating: v0.3/raw/train/targets/0/girl (1).png  \n",
            "  inflating: v0.3/raw/train/targets/0/girl (10).png  \n",
            "  inflating: v0.3/raw/train/targets/0/girl (11).png  \n",
            "  inflating: v0.3/raw/train/targets/0/girl (12).png  \n",
            "  inflating: v0.3/raw/train/targets/0/girl (13).png  \n",
            "  inflating: v0.3/raw/train/targets/0/girl (14).png  \n",
            "  inflating: v0.3/raw/train/targets/0/girl (15).png  \n",
            "  inflating: v0.3/raw/train/targets/0/girl (16).png  \n",
            "  inflating: v0.3/raw/train/targets/0/girl (17).png  \n",
            "  inflating: v0.3/raw/train/targets/0/girl (18).png  \n",
            "  inflating: v0.3/raw/train/targets/0/girl (19).png  \n",
            "  inflating: v0.3/raw/train/targets/0/girl (2).png  \n",
            "  inflating: v0.3/raw/train/targets/0/girl (20).png  \n",
            "  inflating: v0.3/raw/train/targets/0/girl (21).png  \n",
            "  inflating: v0.3/raw/train/targets/0/girl (22).png  \n",
            "  inflating: v0.3/raw/train/targets/0/girl (23).png  \n",
            "  inflating: v0.3/raw/train/targets/0/girl (24).png  \n",
            "  inflating: v0.3/raw/train/targets/0/girl (3).png  \n",
            "  inflating: v0.3/raw/train/targets/0/girl (4).png  \n",
            "  inflating: v0.3/raw/train/targets/0/girl (5).png  \n",
            "  inflating: v0.3/raw/train/targets/0/girl (6).png  \n",
            "  inflating: v0.3/raw/train/targets/0/girl (7).png  \n",
            "  inflating: v0.3/raw/train/targets/0/girl (8).png  \n",
            "  inflating: v0.3/raw/train/targets/0/girl (9).png  \n",
            "  inflating: v0.3/raw/train/targets/0/girl.png  \n",
            "   creating: v0.3/raw/train/targets/1/\n",
            "  inflating: v0.3/raw/train/targets/1/boy (1).png  \n",
            "  inflating: v0.3/raw/train/targets/1/boy (10).png  \n",
            "  inflating: v0.3/raw/train/targets/1/boy (11).png  \n",
            "  inflating: v0.3/raw/train/targets/1/boy (12).png  \n",
            "  inflating: v0.3/raw/train/targets/1/boy (13).png  \n",
            "  inflating: v0.3/raw/train/targets/1/boy (14).png  \n",
            "  inflating: v0.3/raw/train/targets/1/boy (15).png  \n",
            "  inflating: v0.3/raw/train/targets/1/boy (16).png  \n",
            "  inflating: v0.3/raw/train/targets/1/boy (17).png  \n",
            "  inflating: v0.3/raw/train/targets/1/boy (18).png  \n",
            "  inflating: v0.3/raw/train/targets/1/boy (19).png  \n",
            "  inflating: v0.3/raw/train/targets/1/boy (2).png  \n",
            "  inflating: v0.3/raw/train/targets/1/boy (20).png  \n",
            "  inflating: v0.3/raw/train/targets/1/boy (21).png  \n",
            "  inflating: v0.3/raw/train/targets/1/boy (22).png  \n",
            "  inflating: v0.3/raw/train/targets/1/boy (23).png  \n",
            "  inflating: v0.3/raw/train/targets/1/boy (24).png  \n",
            "  inflating: v0.3/raw/train/targets/1/boy (25).png  \n",
            "  inflating: v0.3/raw/train/targets/1/boy (3).png  \n",
            "  inflating: v0.3/raw/train/targets/1/boy (4).png  \n",
            "  inflating: v0.3/raw/train/targets/1/boy (5).png  \n",
            "  inflating: v0.3/raw/train/targets/1/boy (6).png  \n",
            "  inflating: v0.3/raw/train/targets/1/boy (7).png  \n",
            "  inflating: v0.3/raw/train/targets/1/boy (8).png  \n",
            "  inflating: v0.3/raw/train/targets/1/boy (9).png  \n",
            "   creating: v0.3/raw/train/targets/2/\n",
            "  inflating: v0.3/raw/train/targets/2/girl (1).png  \n",
            "  inflating: v0.3/raw/train/targets/2/girl (10).png  \n",
            "  inflating: v0.3/raw/train/targets/2/girl (11).png  \n",
            "  inflating: v0.3/raw/train/targets/2/girl (12).png  \n",
            "  inflating: v0.3/raw/train/targets/2/girl (13).png  \n",
            "  inflating: v0.3/raw/train/targets/2/girl (14).png  \n",
            "  inflating: v0.3/raw/train/targets/2/girl (15).png  \n",
            "  inflating: v0.3/raw/train/targets/2/girl (16).png  \n",
            "  inflating: v0.3/raw/train/targets/2/girl (17).png  \n",
            "  inflating: v0.3/raw/train/targets/2/girl (18).png  \n",
            "  inflating: v0.3/raw/train/targets/2/girl (19).png  \n",
            "  inflating: v0.3/raw/train/targets/2/girl (2).png  \n",
            "  inflating: v0.3/raw/train/targets/2/girl (20).png  \n",
            "  inflating: v0.3/raw/train/targets/2/girl (21).png  \n",
            "  inflating: v0.3/raw/train/targets/2/girl (22).png  \n",
            "  inflating: v0.3/raw/train/targets/2/girl (23).png  \n",
            "  inflating: v0.3/raw/train/targets/2/girl (24).png  \n",
            "  inflating: v0.3/raw/train/targets/2/girl (3).png  \n",
            "  inflating: v0.3/raw/train/targets/2/girl (4).png  \n",
            "  inflating: v0.3/raw/train/targets/2/girl (5).png  \n",
            "  inflating: v0.3/raw/train/targets/2/girl (6).png  \n",
            "  inflating: v0.3/raw/train/targets/2/girl (7).png  \n",
            "  inflating: v0.3/raw/train/targets/2/girl (8).png  \n",
            "  inflating: v0.3/raw/train/targets/2/girl (9).png  \n",
            "  inflating: v0.3/raw/train/targets/2/girl.png  \n",
            "   creating: v0.3/raw/train/targets/3/\n",
            "  inflating: v0.3/raw/train/targets/3/girl (1).png  \n",
            "  inflating: v0.3/raw/train/targets/3/girl (10).png  \n",
            "  inflating: v0.3/raw/train/targets/3/girl (11).png  \n",
            "  inflating: v0.3/raw/train/targets/3/girl (12).png  \n",
            "  inflating: v0.3/raw/train/targets/3/girl (13).png  \n",
            "  inflating: v0.3/raw/train/targets/3/girl (14).png  \n",
            "  inflating: v0.3/raw/train/targets/3/girl (15).png  \n",
            "  inflating: v0.3/raw/train/targets/3/girl (16).png  \n",
            "  inflating: v0.3/raw/train/targets/3/girl (17).png  \n",
            "  inflating: v0.3/raw/train/targets/3/girl (18).png  \n",
            "  inflating: v0.3/raw/train/targets/3/girl (19).png  \n",
            "  inflating: v0.3/raw/train/targets/3/girl (2).png  \n",
            "  inflating: v0.3/raw/train/targets/3/girl (20).png  \n",
            "  inflating: v0.3/raw/train/targets/3/girl (21).png  \n",
            "  inflating: v0.3/raw/train/targets/3/girl (22).png  \n",
            "  inflating: v0.3/raw/train/targets/3/girl (23).png  \n",
            "  inflating: v0.3/raw/train/targets/3/girl (24).png  \n",
            "  inflating: v0.3/raw/train/targets/3/girl (3).png  \n",
            "  inflating: v0.3/raw/train/targets/3/girl (4).png  \n",
            "  inflating: v0.3/raw/train/targets/3/girl (5).png  \n",
            "  inflating: v0.3/raw/train/targets/3/girl (6).png  \n",
            "  inflating: v0.3/raw/train/targets/3/girl (7).png  \n",
            "  inflating: v0.3/raw/train/targets/3/girl (8).png  \n",
            "  inflating: v0.3/raw/train/targets/3/girl (9).png  \n",
            "  inflating: v0.3/raw/train/targets/3/girl.png  \n",
            "   creating: v0.3/raw/train/targets/4/\n",
            "  inflating: v0.3/raw/train/targets/4/boy (1).png  \n",
            "  inflating: v0.3/raw/train/targets/4/boy (10).png  \n",
            "  inflating: v0.3/raw/train/targets/4/boy (11).png  \n",
            "  inflating: v0.3/raw/train/targets/4/boy (12).png  \n",
            "  inflating: v0.3/raw/train/targets/4/boy (13).png  \n",
            "  inflating: v0.3/raw/train/targets/4/boy (14).png  \n",
            "  inflating: v0.3/raw/train/targets/4/boy (15).png  \n",
            "  inflating: v0.3/raw/train/targets/4/boy (16).png  \n",
            "  inflating: v0.3/raw/train/targets/4/boy (17).png  \n",
            "  inflating: v0.3/raw/train/targets/4/boy (18).png  \n",
            "  inflating: v0.3/raw/train/targets/4/boy (19).png  \n",
            "  inflating: v0.3/raw/train/targets/4/boy (2).png  \n",
            "  inflating: v0.3/raw/train/targets/4/boy (20).png  \n",
            "  inflating: v0.3/raw/train/targets/4/boy (21).png  \n",
            "  inflating: v0.3/raw/train/targets/4/boy (22).png  \n",
            "  inflating: v0.3/raw/train/targets/4/boy (23).png  \n",
            "  inflating: v0.3/raw/train/targets/4/boy (24).png  \n",
            "  inflating: v0.3/raw/train/targets/4/boy (25).png  \n",
            "  inflating: v0.3/raw/train/targets/4/boy (3).png  \n",
            "  inflating: v0.3/raw/train/targets/4/boy (4).png  \n",
            "  inflating: v0.3/raw/train/targets/4/boy (5).png  \n",
            "  inflating: v0.3/raw/train/targets/4/boy (6).png  \n",
            "  inflating: v0.3/raw/train/targets/4/boy (7).png  \n",
            "  inflating: v0.3/raw/train/targets/4/boy (8).png  \n",
            "  inflating: v0.3/raw/train/targets/4/boy (9).png  \n",
            "   creating: v0.3/raw/train/targets/5/\n",
            "  inflating: v0.3/raw/train/targets/5/boy (1).png  \n",
            "  inflating: v0.3/raw/train/targets/5/boy (10).png  \n",
            "  inflating: v0.3/raw/train/targets/5/boy (11).png  \n",
            "  inflating: v0.3/raw/train/targets/5/boy (12).png  \n",
            "  inflating: v0.3/raw/train/targets/5/boy (13).png  \n",
            "  inflating: v0.3/raw/train/targets/5/boy (14).png  \n",
            "  inflating: v0.3/raw/train/targets/5/boy (15).png  \n",
            "  inflating: v0.3/raw/train/targets/5/boy (16).png  \n",
            "  inflating: v0.3/raw/train/targets/5/boy (17).png  \n",
            "  inflating: v0.3/raw/train/targets/5/boy (18).png  \n",
            "  inflating: v0.3/raw/train/targets/5/boy (19).png  \n",
            "  inflating: v0.3/raw/train/targets/5/boy (2).png  \n",
            "  inflating: v0.3/raw/train/targets/5/boy (20).png  \n",
            "  inflating: v0.3/raw/train/targets/5/boy (21).png  \n",
            "  inflating: v0.3/raw/train/targets/5/boy (22).png  \n",
            "  inflating: v0.3/raw/train/targets/5/boy (23).png  \n",
            "  inflating: v0.3/raw/train/targets/5/boy (24).png  \n",
            "  inflating: v0.3/raw/train/targets/5/boy (25).png  \n",
            "  inflating: v0.3/raw/train/targets/5/boy (3).png  \n",
            "  inflating: v0.3/raw/train/targets/5/boy (4).png  \n",
            "  inflating: v0.3/raw/train/targets/5/boy (5).png  \n",
            "  inflating: v0.3/raw/train/targets/5/boy (6).png  \n",
            "  inflating: v0.3/raw/train/targets/5/boy (7).png  \n",
            "  inflating: v0.3/raw/train/targets/5/boy (8).png  \n",
            "  inflating: v0.3/raw/train/targets/5/boy (9).png  \n",
            "   creating: v0.3/raw/train/targets/6/\n",
            "  inflating: v0.3/raw/train/targets/6/girl (1).png  \n",
            "  inflating: v0.3/raw/train/targets/6/girl (10).png  \n",
            "  inflating: v0.3/raw/train/targets/6/girl (11).png  \n",
            "  inflating: v0.3/raw/train/targets/6/girl (12).png  \n",
            "  inflating: v0.3/raw/train/targets/6/girl (13).png  \n",
            "  inflating: v0.3/raw/train/targets/6/girl (14).png  \n",
            "  inflating: v0.3/raw/train/targets/6/girl (15).png  \n",
            "  inflating: v0.3/raw/train/targets/6/girl (16).png  \n",
            "  inflating: v0.3/raw/train/targets/6/girl (17).png  \n",
            "  inflating: v0.3/raw/train/targets/6/girl (18).png  \n",
            "  inflating: v0.3/raw/train/targets/6/girl (19).png  \n",
            "  inflating: v0.3/raw/train/targets/6/girl (2).png  \n",
            "  inflating: v0.3/raw/train/targets/6/girl (20).png  \n",
            "  inflating: v0.3/raw/train/targets/6/girl (21).png  \n",
            "  inflating: v0.3/raw/train/targets/6/girl (22).png  \n",
            "  inflating: v0.3/raw/train/targets/6/girl (23).png  \n",
            "  inflating: v0.3/raw/train/targets/6/girl (24).png  \n",
            "  inflating: v0.3/raw/train/targets/6/girl (3).png  \n",
            "  inflating: v0.3/raw/train/targets/6/girl (4).png  \n",
            "  inflating: v0.3/raw/train/targets/6/girl (5).png  \n",
            "  inflating: v0.3/raw/train/targets/6/girl (6).png  \n",
            "  inflating: v0.3/raw/train/targets/6/girl (7).png  \n",
            "  inflating: v0.3/raw/train/targets/6/girl (8).png  \n",
            "  inflating: v0.3/raw/train/targets/6/girl (9).png  \n",
            "  inflating: v0.3/raw/train/targets/6/girl.png  \n",
            "   creating: v0.3/raw/train/targets/7/\n",
            "  inflating: v0.3/raw/train/targets/7/girl (1).png  \n",
            "  inflating: v0.3/raw/train/targets/7/girl (10).png  \n",
            "  inflating: v0.3/raw/train/targets/7/girl (11).png  \n",
            "  inflating: v0.3/raw/train/targets/7/girl (12).png  \n",
            "  inflating: v0.3/raw/train/targets/7/girl (13).png  \n",
            "  inflating: v0.3/raw/train/targets/7/girl (14).png  \n",
            "  inflating: v0.3/raw/train/targets/7/girl (15).png  \n",
            "  inflating: v0.3/raw/train/targets/7/girl (16).png  \n",
            "  inflating: v0.3/raw/train/targets/7/girl (17).png  \n",
            "  inflating: v0.3/raw/train/targets/7/girl (18).png  \n",
            "  inflating: v0.3/raw/train/targets/7/girl (19).png  \n",
            "  inflating: v0.3/raw/train/targets/7/girl (2).png  \n",
            "  inflating: v0.3/raw/train/targets/7/girl (20).png  \n",
            "  inflating: v0.3/raw/train/targets/7/girl (21).png  \n",
            "  inflating: v0.3/raw/train/targets/7/girl (22).png  \n",
            "  inflating: v0.3/raw/train/targets/7/girl (23).png  \n",
            "  inflating: v0.3/raw/train/targets/7/girl (24).png  \n",
            "  inflating: v0.3/raw/train/targets/7/girl (3).png  \n",
            "  inflating: v0.3/raw/train/targets/7/girl (4).png  \n",
            "  inflating: v0.3/raw/train/targets/7/girl (5).png  \n",
            "  inflating: v0.3/raw/train/targets/7/girl (6).png  \n",
            "  inflating: v0.3/raw/train/targets/7/girl (7).png  \n",
            "  inflating: v0.3/raw/train/targets/7/girl (8).png  \n",
            "  inflating: v0.3/raw/train/targets/7/girl (9).png  \n",
            "  inflating: v0.3/raw/train/targets/7/girl.png  \n",
            "   creating: v0.3/raw/train/targets/8/\n",
            "  inflating: v0.3/raw/train/targets/8/boy (1).png  \n",
            "  inflating: v0.3/raw/train/targets/8/boy (10).png  \n",
            "  inflating: v0.3/raw/train/targets/8/boy (11).png  \n",
            "  inflating: v0.3/raw/train/targets/8/boy (12).png  \n",
            "  inflating: v0.3/raw/train/targets/8/boy (13).png  \n",
            "  inflating: v0.3/raw/train/targets/8/boy (14).png  \n",
            "  inflating: v0.3/raw/train/targets/8/boy (15).png  \n",
            "  inflating: v0.3/raw/train/targets/8/boy (16).png  \n",
            "  inflating: v0.3/raw/train/targets/8/boy (17).png  \n",
            "  inflating: v0.3/raw/train/targets/8/boy (18).png  \n",
            "  inflating: v0.3/raw/train/targets/8/boy (19).png  \n",
            "  inflating: v0.3/raw/train/targets/8/boy (2).png  \n",
            "  inflating: v0.3/raw/train/targets/8/boy (20).png  \n",
            "  inflating: v0.3/raw/train/targets/8/boy (21).png  \n",
            "  inflating: v0.3/raw/train/targets/8/boy (22).png  \n",
            "  inflating: v0.3/raw/train/targets/8/boy (23).png  \n",
            "  inflating: v0.3/raw/train/targets/8/boy (24).png  \n",
            "  inflating: v0.3/raw/train/targets/8/boy (25).png  \n",
            "  inflating: v0.3/raw/train/targets/8/boy (3).png  \n",
            "  inflating: v0.3/raw/train/targets/8/boy (4).png  \n",
            "  inflating: v0.3/raw/train/targets/8/boy (5).png  \n",
            "  inflating: v0.3/raw/train/targets/8/boy (6).png  \n",
            "  inflating: v0.3/raw/train/targets/8/boy (7).png  \n",
            "  inflating: v0.3/raw/train/targets/8/boy (8).png  \n",
            "  inflating: v0.3/raw/train/targets/8/boy (9).png  \n",
            "   creating: v0.3/raw/train/targets/9/\n",
            "  inflating: v0.3/raw/train/targets/9/man (1).png  \n",
            "  inflating: v0.3/raw/train/targets/9/man (10).png  \n",
            "  inflating: v0.3/raw/train/targets/9/man (11).png  \n",
            "  inflating: v0.3/raw/train/targets/9/man (12).png  \n",
            "  inflating: v0.3/raw/train/targets/9/man (13).png  \n",
            "  inflating: v0.3/raw/train/targets/9/man (14).png  \n",
            "  inflating: v0.3/raw/train/targets/9/man (15).png  \n",
            "  inflating: v0.3/raw/train/targets/9/man (16).png  \n",
            "  inflating: v0.3/raw/train/targets/9/man (17).png  \n",
            "  inflating: v0.3/raw/train/targets/9/man (18).png  \n",
            "  inflating: v0.3/raw/train/targets/9/man (19).png  \n",
            "  inflating: v0.3/raw/train/targets/9/man (2).png  \n",
            "  inflating: v0.3/raw/train/targets/9/man (20).png  \n",
            "  inflating: v0.3/raw/train/targets/9/man (21).png  \n",
            "  inflating: v0.3/raw/train/targets/9/man (22).png  \n",
            "  inflating: v0.3/raw/train/targets/9/man (23).png  \n",
            "  inflating: v0.3/raw/train/targets/9/man (24).png  \n",
            "  inflating: v0.3/raw/train/targets/9/man (25).png  \n",
            "  inflating: v0.3/raw/train/targets/9/man (3).png  \n",
            "  inflating: v0.3/raw/train/targets/9/man (4).png  \n",
            "  inflating: v0.3/raw/train/targets/9/man (5).png  \n",
            "  inflating: v0.3/raw/train/targets/9/man (6).png  \n",
            "  inflating: v0.3/raw/train/targets/9/man (7).png  \n",
            "  inflating: v0.3/raw/train/targets/9/man (8).png  \n",
            "  inflating: v0.3/raw/train/targets/9/man (9).png  \n"
          ]
        }
      ]
    },
    {
      "cell_type": "markdown",
      "source": [
        "#**🔴Import Libs**"
      ],
      "metadata": {
        "id": "Itr36hpJb6KY"
      }
    },
    {
      "cell_type": "code",
      "source": [
        "import os\n",
        "import tqdm\n",
        "import cv2\n",
        "import numpy as np\n",
        "import pandas as pd\n",
        "import matplotlib.pyplot as plt\n",
        "from PIL import Image\n",
        "from glob import glob\n",
        "import random\n",
        "from pathlib import Path\n",
        "from typing import Any, Callable, Dict, List, Optional, Tuple\n",
        "import time\n",
        "import shutil\n",
        "import warnings\n",
        "warnings.filterwarnings('ignore')\n",
        "\n",
        "import torch\n",
        "from torch.utils.data import Dataset, DataLoader, random_split\n",
        "import torchvision.transforms as T\n",
        "from torchvision.utils import make_grid\n"
      ],
      "metadata": {
        "id": "tTuabxn3bAmZ"
      },
      "execution_count": 15,
      "outputs": []
    },
    {
      "cell_type": "markdown",
      "source": [
        "#**🔴Utils**"
      ],
      "metadata": {
        "id": "miYVwnMhcFEx"
      }
    },
    {
      "cell_type": "code",
      "source": [
        "def num_trainable_params(model):\n",
        "  nums = sum(p.numel() for p in model.parameters() if p.requires_grad)/1e6\n",
        "  return nums"
      ],
      "metadata": {
        "id": "6ad3_nkFbr3Z"
      },
      "execution_count": 10,
      "outputs": []
    },
    {
      "cell_type": "code",
      "source": [
        "def set_seed(seed):\n",
        "  np.random.seed(seed)\n",
        "  torch.manual_seed(seed)\n",
        "  if torch.cuda.is_available():\n",
        "      torch.cuda.manual_seed(seed)\n",
        "      # torch.cuda.manual_seed_all(seed)\n",
        "\n",
        "      # torch.backends.cudnn.deterministic = True\n",
        "      # torch.backends.cudnn.benchmark = False\n"
      ],
      "metadata": {
        "id": "HKy7LKKjdq_7"
      },
      "execution_count": 11,
      "outputs": []
    },
    {
      "cell_type": "code",
      "source": [
        "def time_for_each_batch(loader):\n",
        "  start = time.time()\n",
        "  for iter, (img, mask) in enumerate(loader, 1):\n",
        "    continue\n",
        "  end = time.time()\n",
        "  total_time = end - start\n",
        "  return total_time, total_time/len(loader)"
      ],
      "metadata": {
        "id": "EPgeWcewdtuT"
      },
      "execution_count": 12,
      "outputs": []
    },
    {
      "cell_type": "markdown",
      "source": [
        "#**🔴Arguments**"
      ],
      "metadata": {
        "id": "8LCVSukQcJnr"
      }
    },
    {
      "cell_type": "code",
      "source": [
        "seed = 8\n",
        "wandb_enable = False\n",
        "device = 'cuda' if torch.cuda.is_available() else 'cpu'\n",
        "\n",
        "root = Path('/content/v0.3/processed/')\n",
        "\n",
        "batch_size = 10"
      ],
      "metadata": {
        "id": "sI6oCIltcMYE"
      },
      "execution_count": 16,
      "outputs": []
    },
    {
      "cell_type": "code",
      "source": [
        "if wandb_enable:\n",
        "  wandb_arg_name = input('Please input the WandB argument (run) name:')\n",
        "  print(wandb_arg_name)"
      ],
      "metadata": {
        "id": "r4wqcMPcdyn2"
      },
      "execution_count": 17,
      "outputs": []
    },
    {
      "cell_type": "markdown",
      "source": [
        "#**🔴Dataset**"
      ],
      "metadata": {
        "id": "on-O-Md_cM1P"
      }
    },
    {
      "cell_type": "code",
      "source": [],
      "metadata": {
        "id": "zdEggp_ocPVn"
      },
      "execution_count": null,
      "outputs": []
    },
    {
      "cell_type": "markdown",
      "source": [
        "#**🔴Model**"
      ],
      "metadata": {
        "id": "uGWllBUkcPxn"
      }
    },
    {
      "cell_type": "code",
      "source": [],
      "metadata": {
        "id": "hf_CYk_9cRng"
      },
      "execution_count": null,
      "outputs": []
    },
    {
      "cell_type": "markdown",
      "source": [
        "#**🔴Config**"
      ],
      "metadata": {
        "id": "dmqoG1AmcR55"
      }
    },
    {
      "cell_type": "code",
      "source": [],
      "metadata": {
        "id": "RUYRCFzTcURY"
      },
      "execution_count": null,
      "outputs": []
    },
    {
      "cell_type": "markdown",
      "source": [
        "##🟠Loss"
      ],
      "metadata": {
        "id": "GqqUjkkecUpz"
      }
    },
    {
      "cell_type": "code",
      "source": [],
      "metadata": {
        "id": "id-mASDicYKh"
      },
      "execution_count": null,
      "outputs": []
    },
    {
      "cell_type": "markdown",
      "source": [
        "##🟠Optimizer"
      ],
      "metadata": {
        "id": "pj63llN0cgGL"
      }
    },
    {
      "cell_type": "code",
      "source": [],
      "metadata": {
        "id": "wXRgi_-Hch7Y"
      },
      "execution_count": null,
      "outputs": []
    },
    {
      "cell_type": "markdown",
      "source": [
        "##🟠W&B"
      ],
      "metadata": {
        "id": "sMMcgE3NciYX"
      }
    },
    {
      "cell_type": "code",
      "source": [],
      "metadata": {
        "id": "Vn60uZiYck1Z"
      },
      "execution_count": null,
      "outputs": []
    },
    {
      "cell_type": "markdown",
      "source": [
        "#**🔴Train**"
      ],
      "metadata": {
        "id": "kkCBoWzNclOZ"
      }
    },
    {
      "cell_type": "code",
      "source": [],
      "metadata": {
        "id": "8NTtZMUscn8v"
      },
      "execution_count": null,
      "outputs": []
    },
    {
      "cell_type": "markdown",
      "source": [
        "##🟠Block Diagrams"
      ],
      "metadata": {
        "id": "TmNkjJSscohT"
      }
    },
    {
      "cell_type": "code",
      "source": [],
      "metadata": {
        "id": "z2XHMxQ-csLn"
      },
      "execution_count": null,
      "outputs": []
    },
    {
      "cell_type": "markdown",
      "source": [
        "###🟡Generator"
      ],
      "metadata": {
        "id": "NWph0GK9ctXP"
      }
    },
    {
      "cell_type": "code",
      "source": [],
      "metadata": {
        "id": "lVQzz3AXcw24"
      },
      "execution_count": null,
      "outputs": []
    },
    {
      "cell_type": "markdown",
      "source": [
        "###🟡Discriminator"
      ],
      "metadata": {
        "id": "ekKzHJMocxTF"
      }
    },
    {
      "cell_type": "code",
      "source": [],
      "metadata": {
        "id": "C_THnj23c3vX"
      },
      "execution_count": null,
      "outputs": []
    },
    {
      "cell_type": "markdown",
      "source": [
        "##🟠Train Function"
      ],
      "metadata": {
        "id": "Lx88SfSNc4f2"
      }
    },
    {
      "cell_type": "code",
      "source": [],
      "metadata": {
        "id": "Iocpy4R2c7Sg"
      },
      "execution_count": null,
      "outputs": []
    },
    {
      "cell_type": "markdown",
      "source": [
        "#**🔴Evaluation**"
      ],
      "metadata": {
        "id": "kfdaxO2sc8Zr"
      }
    },
    {
      "cell_type": "code",
      "source": [],
      "metadata": {
        "id": "L0b8WYh_c_kf"
      },
      "execution_count": null,
      "outputs": []
    },
    {
      "cell_type": "markdown",
      "source": [
        "#**🔴Generate**"
      ],
      "metadata": {
        "id": "byAkB9RDdAFS"
      }
    },
    {
      "cell_type": "code",
      "source": [],
      "metadata": {
        "id": "X97ekoC9dEh3"
      },
      "execution_count": null,
      "outputs": []
    },
    {
      "cell_type": "markdown",
      "source": [
        "#**🔴Training Process**"
      ],
      "metadata": {
        "id": "cDwdd2EzdP4J"
      }
    },
    {
      "cell_type": "code",
      "source": [],
      "metadata": {
        "id": "DmCiKzn4dT9v"
      },
      "execution_count": null,
      "outputs": []
    },
    {
      "cell_type": "markdown",
      "source": [
        "##🟠Finding Hyper-parameters"
      ],
      "metadata": {
        "id": "elEfSjLvdUkd"
      }
    },
    {
      "cell_type": "code",
      "source": [],
      "metadata": {
        "id": "XdFwwB6WdY1f"
      },
      "execution_count": null,
      "outputs": []
    },
    {
      "cell_type": "markdown",
      "source": [
        "##🟠Main Loop"
      ],
      "metadata": {
        "id": "skFNUIITdZQT"
      }
    },
    {
      "cell_type": "code",
      "source": [],
      "metadata": {
        "id": "ktgKj-mLdbVv"
      },
      "execution_count": null,
      "outputs": []
    },
    {
      "cell_type": "markdown",
      "source": [
        "##🟠Plot"
      ],
      "metadata": {
        "id": "rsypRB9TdgGn"
      }
    },
    {
      "cell_type": "code",
      "source": [],
      "metadata": {
        "id": "wvbku-dWdhkf"
      },
      "execution_count": null,
      "outputs": []
    },
    {
      "cell_type": "markdown",
      "source": [
        "#**🔴Generate**"
      ],
      "metadata": {
        "id": "E_dyHS1GdiqN"
      }
    },
    {
      "cell_type": "code",
      "source": [],
      "metadata": {
        "id": "SicxTxG2dkq3"
      },
      "execution_count": null,
      "outputs": []
    }
  ]
}