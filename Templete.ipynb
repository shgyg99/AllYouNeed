{
  "nbformat": 4,
  "nbformat_minor": 0,
  "metadata": {
    "colab": {
      "provenance": []
    },
    "kernelspec": {
      "name": "python3",
      "display_name": "Python 3"
    },
    "language_info": {
      "name": "python"
    }
  },
  "cells": [
    {
      "cell_type": "code",
      "execution_count": null,
      "metadata": {
        "id": "-wPXeM3UUYu1"
      },
      "outputs": [],
      "source": []
    },
    {
      "cell_type": "code",
      "source": [
        "from google.colab import drive\n",
        "drive.mount('/content/drive')"
      ],
      "metadata": {
        "colab": {
          "base_uri": "https://localhost:8080/"
        },
        "id": "PTwdG7YJZhq6",
        "outputId": "f99eef66-3cd7-44d6-ad27-97a32fc8be17"
      },
      "execution_count": 1,
      "outputs": [
        {
          "output_type": "stream",
          "name": "stdout",
          "text": [
            "Mounted at /content/drive\n"
          ]
        }
      ]
    },
    {
      "cell_type": "code",
      "source": [
        "! unzip -q /content/drive/MyDrive/all_data/coloring_dataset-v0.3.zip"
      ],
      "metadata": {
        "colab": {
          "base_uri": "https://localhost:8080/"
        },
        "id": "ANxKORf-a8lV",
        "outputId": "cc24db2b-29bc-4569-acfd-9d058e09c426"
      },
      "execution_count": 18,
      "outputs": [
        {
          "output_type": "stream",
          "name": "stdout",
          "text": [
            "replace v0.3/dataset-preparation.ipynb? [y]es, [n]o, [A]ll, [N]one, [r]ename: y\n",
            "replace v0.3/processed/test/inputs/0001.bmp? [y]es, [n]o, [A]ll, [N]one, [r]ename: A\n"
          ]
        }
      ]
    },
    {
      "cell_type": "markdown",
      "source": [
        "#**🔴Import Libs**"
      ],
      "metadata": {
        "id": "Itr36hpJb6KY"
      }
    },
    {
      "cell_type": "code",
      "source": [
        "import os\n",
        "import tqdm\n",
        "import cv2\n",
        "import numpy as np\n",
        "import pandas as pd\n",
        "import matplotlib.pyplot as plt\n",
        "from PIL import Image\n",
        "from glob import glob\n",
        "import random\n",
        "from pathlib import Path\n",
        "from typing import Any, Callable, Dict, List, Optional, Tuple\n",
        "import time\n",
        "import shutil\n",
        "import warnings\n",
        "warnings.filterwarnings('ignore')\n",
        "\n",
        "import torch\n",
        "from torch.utils.data import Dataset, DataLoader, random_split\n",
        "import torchvision.transforms as T\n",
        "from torchvision.utils import make_grid\n"
      ],
      "metadata": {
        "id": "tTuabxn3bAmZ"
      },
      "execution_count": 15,
      "outputs": []
    },
    {
      "cell_type": "markdown",
      "source": [
        "#**🔴Utils**"
      ],
      "metadata": {
        "id": "miYVwnMhcFEx"
      }
    },
    {
      "cell_type": "code",
      "source": [
        "def num_trainable_params(model):\n",
        "  nums = sum(p.numel() for p in model.parameters() if p.requires_grad)/1e6\n",
        "  return nums"
      ],
      "metadata": {
        "id": "6ad3_nkFbr3Z"
      },
      "execution_count": 10,
      "outputs": []
    },
    {
      "cell_type": "code",
      "source": [
        "def set_seed(seed):\n",
        "  np.random.seed(seed)\n",
        "  torch.manual_seed(seed)\n",
        "  if torch.cuda.is_available():\n",
        "      torch.cuda.manual_seed(seed)\n",
        "      # torch.cuda.manual_seed_all(seed)\n",
        "\n",
        "      # torch.backends.cudnn.deterministic = True\n",
        "      # torch.backends.cudnn.benchmark = False\n"
      ],
      "metadata": {
        "id": "HKy7LKKjdq_7"
      },
      "execution_count": 11,
      "outputs": []
    },
    {
      "cell_type": "code",
      "source": [
        "def time_for_each_batch(loader):\n",
        "  start = time.time()\n",
        "  for iter, (img, mask) in enumerate(loader, 1):\n",
        "    continue\n",
        "  end = time.time()\n",
        "  total_time = end - start\n",
        "  return total_time, total_time/len(loader)"
      ],
      "metadata": {
        "id": "EPgeWcewdtuT"
      },
      "execution_count": 12,
      "outputs": []
    },
    {
      "cell_type": "markdown",
      "source": [
        "#**🔴Arguments**"
      ],
      "metadata": {
        "id": "8LCVSukQcJnr"
      }
    },
    {
      "cell_type": "code",
      "source": [
        "seed = 8\n",
        "wandb_enable = False\n",
        "device = 'cuda' if torch.cuda.is_available() else 'cpu'\n",
        "\n",
        "root = Path('/content/v0.3/processed/')\n",
        "\n",
        "batch_size = 10"
      ],
      "metadata": {
        "id": "sI6oCIltcMYE"
      },
      "execution_count": 16,
      "outputs": []
    },
    {
      "cell_type": "code",
      "source": [
        "if wandb_enable:\n",
        "  wandb_arg_name = input('Please input the WandB argument (run) name:')\n",
        "  print(wandb_arg_name)"
      ],
      "metadata": {
        "id": "r4wqcMPcdyn2"
      },
      "execution_count": 17,
      "outputs": []
    },
    {
      "cell_type": "markdown",
      "source": [
        "#**🔴Dataset**"
      ],
      "metadata": {
        "id": "on-O-Md_cM1P"
      }
    },
    {
      "cell_type": "code",
      "source": [],
      "metadata": {
        "id": "zdEggp_ocPVn"
      },
      "execution_count": null,
      "outputs": []
    },
    {
      "cell_type": "markdown",
      "source": [
        "#**🔴Model**"
      ],
      "metadata": {
        "id": "uGWllBUkcPxn"
      }
    },
    {
      "cell_type": "code",
      "source": [],
      "metadata": {
        "id": "hf_CYk_9cRng"
      },
      "execution_count": null,
      "outputs": []
    },
    {
      "cell_type": "markdown",
      "source": [
        "#**🔴Config**"
      ],
      "metadata": {
        "id": "dmqoG1AmcR55"
      }
    },
    {
      "cell_type": "code",
      "source": [],
      "metadata": {
        "id": "RUYRCFzTcURY"
      },
      "execution_count": null,
      "outputs": []
    },
    {
      "cell_type": "markdown",
      "source": [
        "##🟠Loss"
      ],
      "metadata": {
        "id": "GqqUjkkecUpz"
      }
    },
    {
      "cell_type": "code",
      "source": [],
      "metadata": {
        "id": "id-mASDicYKh"
      },
      "execution_count": null,
      "outputs": []
    },
    {
      "cell_type": "markdown",
      "source": [
        "##🟠Optimizer"
      ],
      "metadata": {
        "id": "pj63llN0cgGL"
      }
    },
    {
      "cell_type": "code",
      "source": [],
      "metadata": {
        "id": "wXRgi_-Hch7Y"
      },
      "execution_count": null,
      "outputs": []
    },
    {
      "cell_type": "markdown",
      "source": [
        "##🟠W&B"
      ],
      "metadata": {
        "id": "sMMcgE3NciYX"
      }
    },
    {
      "cell_type": "code",
      "source": [],
      "metadata": {
        "id": "Vn60uZiYck1Z"
      },
      "execution_count": null,
      "outputs": []
    },
    {
      "cell_type": "markdown",
      "source": [
        "#**🔴Train**"
      ],
      "metadata": {
        "id": "kkCBoWzNclOZ"
      }
    },
    {
      "cell_type": "code",
      "source": [],
      "metadata": {
        "id": "8NTtZMUscn8v"
      },
      "execution_count": null,
      "outputs": []
    },
    {
      "cell_type": "markdown",
      "source": [
        "##🟠Block Diagrams"
      ],
      "metadata": {
        "id": "TmNkjJSscohT"
      }
    },
    {
      "cell_type": "code",
      "source": [],
      "metadata": {
        "id": "z2XHMxQ-csLn"
      },
      "execution_count": null,
      "outputs": []
    },
    {
      "cell_type": "markdown",
      "source": [
        "###🟡Generator"
      ],
      "metadata": {
        "id": "NWph0GK9ctXP"
      }
    },
    {
      "cell_type": "code",
      "source": [],
      "metadata": {
        "id": "lVQzz3AXcw24"
      },
      "execution_count": null,
      "outputs": []
    },
    {
      "cell_type": "markdown",
      "source": [
        "###🟡Discriminator"
      ],
      "metadata": {
        "id": "ekKzHJMocxTF"
      }
    },
    {
      "cell_type": "code",
      "source": [],
      "metadata": {
        "id": "C_THnj23c3vX"
      },
      "execution_count": null,
      "outputs": []
    },
    {
      "cell_type": "markdown",
      "source": [
        "##🟠Train Function"
      ],
      "metadata": {
        "id": "Lx88SfSNc4f2"
      }
    },
    {
      "cell_type": "code",
      "source": [],
      "metadata": {
        "id": "Iocpy4R2c7Sg"
      },
      "execution_count": null,
      "outputs": []
    },
    {
      "cell_type": "markdown",
      "source": [
        "#**🔴Evaluation**"
      ],
      "metadata": {
        "id": "kfdaxO2sc8Zr"
      }
    },
    {
      "cell_type": "code",
      "source": [],
      "metadata": {
        "id": "L0b8WYh_c_kf"
      },
      "execution_count": null,
      "outputs": []
    },
    {
      "cell_type": "markdown",
      "source": [
        "#**🔴Generate**"
      ],
      "metadata": {
        "id": "byAkB9RDdAFS"
      }
    },
    {
      "cell_type": "code",
      "source": [],
      "metadata": {
        "id": "X97ekoC9dEh3"
      },
      "execution_count": null,
      "outputs": []
    },
    {
      "cell_type": "markdown",
      "source": [
        "#**🔴Training Process**"
      ],
      "metadata": {
        "id": "cDwdd2EzdP4J"
      }
    },
    {
      "cell_type": "code",
      "source": [],
      "metadata": {
        "id": "DmCiKzn4dT9v"
      },
      "execution_count": null,
      "outputs": []
    },
    {
      "cell_type": "markdown",
      "source": [
        "##🟠Finding Hyper-parameters"
      ],
      "metadata": {
        "id": "elEfSjLvdUkd"
      }
    },
    {
      "cell_type": "code",
      "source": [],
      "metadata": {
        "id": "XdFwwB6WdY1f"
      },
      "execution_count": null,
      "outputs": []
    },
    {
      "cell_type": "markdown",
      "source": [
        "##🟠Main Loop"
      ],
      "metadata": {
        "id": "skFNUIITdZQT"
      }
    },
    {
      "cell_type": "code",
      "source": [],
      "metadata": {
        "id": "ktgKj-mLdbVv"
      },
      "execution_count": null,
      "outputs": []
    },
    {
      "cell_type": "markdown",
      "source": [
        "##🟠Plot"
      ],
      "metadata": {
        "id": "rsypRB9TdgGn"
      }
    },
    {
      "cell_type": "code",
      "source": [],
      "metadata": {
        "id": "wvbku-dWdhkf"
      },
      "execution_count": null,
      "outputs": []
    },
    {
      "cell_type": "markdown",
      "source": [
        "#**🔴Generate**"
      ],
      "metadata": {
        "id": "E_dyHS1GdiqN"
      }
    },
    {
      "cell_type": "code",
      "source": [],
      "metadata": {
        "id": "SicxTxG2dkq3"
      },
      "execution_count": null,
      "outputs": []
    }
  ]
}
